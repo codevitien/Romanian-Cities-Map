{
 "cells": [
  {
   "cell_type": "code",
   "execution_count": 34,
   "id": "37f33bb4",
   "metadata": {},
   "outputs": [],
   "source": [
    "class Graph:\n",
    "    def __init__(self, adj_lis):\n",
    "        self.adj_lis = adj_lis\n",
    "    def h(self,n):\n",
    "        H = {\n",
    "            'A': 1,\n",
    "            'B': 1,\n",
    "            'C': 1,\n",
    "            'D': 1,\n",
    "        }\n",
    "        return H[n]\n",
    "    def get_neighbor(self, v):\n",
    "        return self.adj_lis[v]\n",
    "    def a_star(self, start, stop):\n",
    "        open_lst = set([start])\n",
    "        close_lst = set([])\n",
    "        p = {}\n",
    "        p[start] = 0\n",
    "        \n",
    "        par = {}\n",
    "        par[start] = start\n",
    "        while len(open_lst)>0:\n",
    "            n = None\n",
    "            for v in open_lst:\n",
    "                if n == None or p[v] + self.h(v) < p[n] + self.h(n):\n",
    "                    n = v\n",
    "            if n == None:\n",
    "                print('Path not found')\n",
    "                return None\n",
    "            if n == stop:\n",
    "                reconst_path=[]\n",
    "                while par[n] != n :\n",
    "                    reconst_path.append(n)\n",
    "                    n=par[n]\n",
    "                reconst_path.append(start)\n",
    "                reconst_path.reverse()\n",
    "                print('Path found:{}'.format(reconst_path))\n",
    "                return reconst_path\n",
    "            for (m,weight) in self.get_neighbor(n):\n",
    "                if m not in open_lst and m not in close_lst:\n",
    "                    open_lst.add(m)\n",
    "                    par[m]=n\n",
    "                    p[m]=p[n]+weight\n",
    "                else:\n",
    "                    if p[m]>p[n]+weight:\n",
    "                        p[m] = p[n]+weight\n",
    "                        par[m]=n\n",
    "                        if m in close_lst:\n",
    "                            close_lst.remove(m)\n",
    "                            open_lst.add(m)\n",
    "            open_lst.remove(n)\n",
    "            close_lst.add(n)\n",
    "        print('Path doesnt exist')\n",
    "        return None"
   ]
  },
  {
   "cell_type": "code",
   "execution_count": 35,
   "id": "603d29fb",
   "metadata": {},
   "outputs": [],
   "source": [
    "adj_lst = {\n",
    "    'A':[('B',5), ('C',1), ('D',10)],\n",
    "    'B':[('D',5)],\n",
    "    'C':[('D',5)]\n",
    "}"
   ]
  },
  {
   "cell_type": "code",
   "execution_count": 41,
   "id": "2369735f",
   "metadata": {},
   "outputs": [
    {
     "name": "stdout",
     "output_type": "stream",
     "text": [
      "Path found:['A', 'C', 'D']\n"
     ]
    },
    {
     "data": {
      "text/plain": [
       "['A', 'C', 'D']"
      ]
     },
     "execution_count": 41,
     "metadata": {},
     "output_type": "execute_result"
    }
   ],
   "source": [
    "graph = Graph(adj_lst)\n",
    "graph.a_star('A','D')"
   ]
  },
  {
   "cell_type": "code",
   "execution_count": 82,
   "id": "232c9037",
   "metadata": {},
   "outputs": [],
   "source": [
    "class Graph:\n",
    "    def __init__(self, adj_lis):\n",
    "        self.adj_lis = adj_lis\n",
    "    def h(self, n):\n",
    "            H = {\n",
    "                'Arad': 366,\n",
    "                'Bucharest': 0,\n",
    "                'Craiova': 160,\n",
    "                'Drobeta': 242,  # corrected from 'Dobreta'\n",
    "                'Eforie': 161,\n",
    "                'Fagaras': 178,\n",
    "                'Giurgiu': 77,\n",
    "                'Hirsova': 151,\n",
    "                'Iasi': 226,  # corrected from 'Lasi'\n",
    "                'Lugoj': 244,\n",
    "                'Mehadia': 241,\n",
    "                'Neamt': 234,\n",
    "                'Oradea': 380,\n",
    "                'Pitesti': 98,\n",
    "                'Rimnicu Vilcea': 193,  # corrected from 'R.Vilcea'\n",
    "                'Sibiu': 253,\n",
    "                'Timisoara': 329,\n",
    "                'Urziceni': 80,  # corrected from 'Urzice'\n",
    "                'Vaslui': 199,\n",
    "                'Zerind': 374\n",
    "            }\n",
    "            return H[n]\n",
    "    def get_neighbor(self, v):\n",
    "        return self.adj_lis[v]\n",
    "    def a_star(self, start, stop):\n",
    "        open_lst = set([start])\n",
    "        close_lst = set([])\n",
    "        p = {}\n",
    "        p[start] = 0\n",
    "        \n",
    "        par = {}\n",
    "        par[start] = start\n",
    "        while len(open_lst)>0:\n",
    "            n = None\n",
    "            for v in open_lst:\n",
    "                if n == None or p[v] + self.h(v) < p[n] + self.h(n):\n",
    "                    n = v\n",
    "            if n == None:\n",
    "                print('Path not found')\n",
    "                return None\n",
    "            if n == stop:\n",
    "                reconst_path=[]\n",
    "                total_weight=p[n]\n",
    "                while par[n] != n :\n",
    "                    reconst_path.append(n)\n",
    "                    n=par[n]\n",
    "                reconst_path.append(start)\n",
    "                reconst_path.reverse()\n",
    "                print('Path found:{} with total weight: {}'.format(reconst_path,total_weight))\n",
    "                return reconst_path, total_weight\n",
    "            for (m,weight) in self.get_neighbor(n):\n",
    "                if m not in open_lst and m not in close_lst:\n",
    "                    open_lst.add(m)\n",
    "                    par[m]=n\n",
    "                    p[m]=p[n]+weight\n",
    "                else:\n",
    "                    if p[m]>p[n]+weight:\n",
    "                        p[m] = p[n]+weight\n",
    "                        par[m]=n\n",
    "                        if m in close_lst:\n",
    "                            close_lst.remove(m)\n",
    "                            open_lst.add(m)\n",
    "            open_lst.remove(n)\n",
    "            close_lst.add(n)\n",
    "        print('Path doesnt exist')\n",
    "        return None"
   ]
  },
  {
   "cell_type": "code",
   "execution_count": 83,
   "id": "b048f157",
   "metadata": {},
   "outputs": [],
   "source": [
    "adj_lst = {\n",
    "    'Arad': [('Zerind', 75), ('Timisoara', 118), ('Sibiu', 140)],\n",
    "    'Bucharest': [('Fagaras', 211), ('Pitesti', 101), ('Giurgiu', 90), ('Urziceni', 85)],\n",
    "    'Craiova': [('Pitesti', 138), ('Drobeta', 120), ('Rimnicu Vilcea', 146)],\n",
    "    'Drobeta': [('Mehadia', 75), ('Craiova', 120)],\n",
    "    'Eforie': [('Hirsova', 86)],\n",
    "    'Fagaras': [('Sibiu', 99), ('Bucharest', 211)],\n",
    "    'Giurgiu': [('Bucharest', 90)],\n",
    "    'Hirsova': [('Eforie', 86), ('Urziceni', 98)],\n",
    "    'Iasi': [('Neamt', 87), ('Vaslui', 92)],\n",
    "    'Lugoj': [('Timisoara', 111), ('Mehadia', 70)],\n",
    "    'Mehadia': [('Lugoj', 70), ('Drobeta', 75)],\n",
    "    'Neamt': [('Iasi', 87)],\n",
    "    'Oradea': [('Zerind', 71), ('Sibiu', 151)],\n",
    "    'Pitesti': [('Craiova', 138), ('Bucharest', 101), ('Rimnicu Vilcea', 97)],\n",
    "    'Rimnicu Vilcea': [('Sibiu', 80), ('Pitesti', 97), ('Craiova', 146)],\n",
    "    'Sibiu': [('Arad', 140), ('Oradea', 151), ('Fagaras', 99), ('Rimnicu Vilcea', 80)],\n",
    "    'Timisoara': [('Arad', 118), ('Lugoj', 111)],\n",
    "    'Urziceni': [('Bucharest', 85), ('Hirsova', 98), ('Vaslui', 142)],\n",
    "    'Vaslui': [('Urziceni', 142), ('Iasi', 92)],\n",
    "    'Zerind': [('Oradea', 71), ('Arad', 75)]\n",
    "}"
   ]
  },
  {
   "cell_type": "code",
   "execution_count": 84,
   "id": "d12778cc",
   "metadata": {},
   "outputs": [
    {
     "name": "stdout",
     "output_type": "stream",
     "text": [
      "Path found:['Arad', 'Sibiu', 'Rimnicu Vilcea', 'Pitesti', 'Bucharest'] with total weight: 418\n"
     ]
    },
    {
     "data": {
      "text/plain": [
       "(['Arad', 'Sibiu', 'Rimnicu Vilcea', 'Pitesti', 'Bucharest'], 418)"
      ]
     },
     "execution_count": 84,
     "metadata": {},
     "output_type": "execute_result"
    }
   ],
   "source": [
    "graph = Graph(adj_lst)\n",
    "graph.a_star('Arad','Bucharest')"
   ]
  },
  {
   "cell_type": "code",
   "execution_count": null,
   "id": "844b9a6a",
   "metadata": {},
   "outputs": [],
   "source": []
  }
 ],
 "metadata": {
  "kernelspec": {
   "display_name": "Python 3 (ipykernel)",
   "language": "python",
   "name": "python3"
  },
  "language_info": {
   "codemirror_mode": {
    "name": "ipython",
    "version": 3
   },
   "file_extension": ".py",
   "mimetype": "text/x-python",
   "name": "python",
   "nbconvert_exporter": "python",
   "pygments_lexer": "ipython3",
   "version": "3.9.12"
  }
 },
 "nbformat": 4,
 "nbformat_minor": 5
}
